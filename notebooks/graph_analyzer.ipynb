{
 "cells": [
  {
   "cell_type": "code",
   "execution_count": 1,
   "metadata": {},
   "outputs": [],
   "source": [
    "import cudf\n",
    "import cugraph\n",
    "from cugraph import Graph\n",
    "from numba import cuda, jit, int32\n",
    "import numpy as np \n",
    "import cupy as cp\n",
    "from math import ceil, floor, log2\n",
    "import seaborn as sns\n",
    "from numba.cuda.random import create_xoroshiro128p_states, xoroshiro128p_uniform_float32\n",
    "from cugraph.generators import multi_rmat, rmat\n",
    "\n",
    "\n",
    "GPU_MEM_LIMIT = (18*1024**3) / 1e9\n"
   ]
  },
  {
   "cell_type": "code",
   "execution_count": 2,
   "metadata": {},
   "outputs": [],
   "source": [
    "#CUDA Kernels to compute:\n",
    "# - Degree Distribution\n",
    "# - Adjacency Lists ( directed and undirected )\n",
    "# - Edges between neighbors (directed and undirected )\n",
    "\n",
    "@cuda.jit\n",
    "def compute_degree_distribution(n, count, percentage):\n",
    "    \"\"\"\n",
    "    - n                 number of vertices\n",
    "    - count             input cudf series\n",
    "    - percentage        output cudf series\n",
    "    \"\"\"\n",
    "    i = cuda.threadIdx.x + (cuda.blockIdx.x * cuda.blockDim.x)\n",
    "    \n",
    "    if i < count.size:\n",
    "        percentage[i] = (count[i] / n) * 100\n",
    "        \n",
    "@cuda.jit\n",
    "def undirected_adj_list(nodes, src, dst, out):\n",
    "    tx = cuda.threadIdx.x\n",
    "    bx = cuda.blockIdx.x\n",
    "    dx = cuda.blockDim.x\n",
    "    tid = dx * bx + tx\n",
    "    pos = 0\n",
    "    if tid < len(nodes):\n",
    "        for j in range(len(src)):\n",
    "            if nodes[tid] == src[j]:\n",
    "                out[tid, pos] = dst[j]\n",
    "                pos += 1\n",
    "            elif nodes[tid] == dst[j]:\n",
    "                out[tid, pos] = src[j]\n",
    "                pos += 1   \n",
    "\n",
    "@cuda.jit\n",
    "def directed_adj_list(nodes, src, dst, out):\n",
    "    tx = cuda.threadIdx.x\n",
    "    bx = cuda.blockIdx.x\n",
    "    dx = cuda.blockDim.x\n",
    "    tid = dx * bx + tx\n",
    "    pos = 0\n",
    "    if tid < len(nodes):\n",
    "        node = nodes[tid]\n",
    "        for j in range(len(src)):\n",
    "            if node == src[j]:\n",
    "                out[tid, pos] = dst[j]\n",
    "                pos += 1\n",
    "\n",
    "@cuda.jit\n",
    "def reciprocal_count(A, nodes, src, dst, M, N, out):\n",
    "    ty = cuda.threadIdx.y; tx = cuda.threadIdx.x\n",
    "    by = cuda.blockIdx.y; bx = cuda.blockIdx.x\n",
    "    dy = cuda.blockDim.y; dx = cuda.blockDim.x\n",
    "    row = dy * by + ty\n",
    "    column = dx * bx + tx\n",
    "    \n",
    "    if row < M and column < N and A[row, column] != -1:\n",
    "        ngbr = A[row, column]\n",
    "        node = nodes[row]\n",
    "        for j in range(len(src)):\n",
    "            if ngbr == src[j] and node == dst[j]:\n",
    "                cuda.atomic.add(out, row, 1)\n",
    "                  \n",
    "@cuda.jit\n",
    "def undirected_ngbr_edges(A, src, dst, M, N, out):\n",
    "    ty = cuda.threadIdx.y; tx = cuda.threadIdx.x\n",
    "    by = cuda.blockIdx.y; bx = cuda.blockIdx.x\n",
    "    dy = cuda.blockDim.y; dx = cuda.blockDim.x\n",
    "    row = dy * by + ty\n",
    "    column = dx * bx + tx\n",
    "\n",
    "    if row < M and column < N:\n",
    "        ngbr = A[row, column]\n",
    "        for j in range(N):\n",
    "            second_ngbr = A[row, j]\n",
    "            if ngbr != -1 and second_ngbr != -1 and ngbr != second_ngbr:\n",
    "                for k in range(len(src)):\n",
    "                    if ngbr == src[k] and second_ngbr == dst[k]:\n",
    "                        cuda.atomic.add(out, row, 1)\n",
    "                    elif ngbr == dst[k] and second_ngbr == src[k]:\n",
    "                        cuda.atomic.add(out, row, 1)\n",
    "\n",
    "@cuda.jit\n",
    "def directed_ngbr_edges(A, src, dst, M, N, out):\n",
    "    ty = cuda.threadIdx.y; tx = cuda.threadIdx.x\n",
    "    by = cuda.blockIdx.y; bx = cuda.blockIdx.x\n",
    "    dy = cuda.blockDim.y; dx = cuda.blockDim.x\n",
    "    row = dy * by + ty\n",
    "    column = dx * bx + tx\n",
    "    \n",
    "    if row < M and column < N and A[row, column] != -1:\n",
    "        ngbr = A[row, column]\n",
    "        j = 0\n",
    "        while j < N:\n",
    "            second_ngbr = A[row, j]\n",
    "            if A[row, j] != -1 and ngbr != second_ngbr:\n",
    "                k = 0\n",
    "                while k < len(src):\n",
    "                    if ngbr == src[k] and second_ngbr == dst[k]:\n",
    "                        cuda.atomic.add(out, row, 1)\n",
    "                    k += 1\n",
    "            j += 1\n",
    "\n",
    "@cuda.jit\n",
    "def lcc_directed(nodes, edges, df_degree, recip, lcc_array):\n",
    "    tid = cuda.blockIdx.x * cuda.blockDim.x + cuda.threadIdx.x\n",
    "    if tid < len(nodes):\n",
    "        lcc = 0.0\n",
    "        item = edges[tid]\n",
    "        if item > 0:\n",
    "            node_deg = df_degree[tid]\n",
    "            lcc = item / (node_deg * (node_deg - 1) - (2 * recip[tid]))\n",
    "        cuda.atomic.add(lcc_array, 0, lcc)\n",
    "\n",
    "@cuda.jit\n",
    "def lcc_undirected(nodes, edges, df_degree, lcc_array):\n",
    "    tid = cuda.blockIdx.x * cuda.blockDim.x + cuda.threadIdx.x\n",
    "    if tid < len(nodes):\n",
    "        lcc = 0.0\n",
    "        item = edges[tid]\n",
    "        if item > 0:\n",
    "            node_deg = df_degree[tid]\n",
    "            lcc = item / (node_deg * (node_deg - 1))\n",
    "        cuda.atomic.add(lcc_array, 0, lcc)\n",
    "\n",
    "@cuda.jit\n",
    "def gnp_erdos_renyi(p, rng_states, M, N, matrix):\n",
    "    tid = cuda.blockIdx.x * cuda.blockDim.x + cuda.threadIdx.x\n",
    "    pos = 0\n",
    "    if tid < M:\n",
    "        for _ in range(N):\n",
    "            rnd = xoroshiro128p_uniform_float32(rng_states, tid)\n",
    "            if rnd <= p:\n",
    "                matrix[tid, pos] = 1\n",
    "            pos += 1\n",
    "                \n",
    "@cuda.jit\n",
    "def gnp_erdos_renyi_v2(p, rng_states, M, N, matrix):\n",
    "    ty = cuda.threadIdx.y; tx = cuda.threadIdx.x\n",
    "    by = cuda.blockIdx.y; bx = cuda.blockIdx.x\n",
    "    dy = cuda.blockDim.y; dx = cuda.blockDim.x\n",
    "    row = dy * by + ty\n",
    "    column = dx * bx + tx\n",
    "\n",
    "    if row < M and column < N:\n",
    "        rnd = xoroshiro128p_uniform_float32(rng_states, row)\n",
    "        if rnd < p:\n",
    "            matrix[row, column] = 1\n",
    "                "
   ]
  },
  {
   "cell_type": "code",
   "execution_count": 3,
   "metadata": {},
   "outputs": [],
   "source": [
    "def compute_bounds(x, y, bytess) -> int:\n",
    "    size = ((x * y * bytess) / 1e9)\n",
    "    if size > GPU_MEM_LIMIT:\n",
    "        x  = compute_bounds(int(x/2), y, bytess)\n",
    "    return x\n",
    "\n",
    "def compute_shortest_path_length(graph, nodes) -> float:\n",
    "    \"\"\"\n",
    "    FIX ME\n",
    "\n",
    "    - graph     graph object\n",
    "    - nodes     cupy array containing all graph's nodes (can be range(number_of_nodes))\n",
    "    \"\"\"\n",
    "\n",
    "    distance = 0\n",
    "    for node in nodes:\n",
    "        sssp_df = cugraph.filter_unreachable(cugraph.sssp(graph, node))\n",
    "        distance = distance + sssp_df['distance'].sum()\n",
    "#    for node in nodes:\n",
    "#        print(node)\n",
    "#        ssp_df = cugraph.filter_unreachable(cugraph.shortest_path_length(graph, node))\n",
    "#        distance += ssp_df['distance'].sum()\n",
    "#        print(distance)\n",
    "    return distance / len(nodes)\n",
    "\n",
    "def degree_distribution_wrapper(n, df) -> cudf.DataFrame:\n",
    "    \"\"\"\n",
    "    - df                cudf dataframe containing in/out/total degree per each node\n",
    "    - n                 number of vertices    \n",
    "    - mode              tot OR in OR out degree to specify nothing(??????????????)      \n",
    "    \"\"\"\n",
    "    degree_series = df['degree'].value_counts()\n",
    "    df_distribution = cudf.DataFrame({'degree': degree_series.index.to_cupy(), \\\n",
    "                                      'count': degree_series.to_cupy(), 'percentage': 0.0})\n",
    "    size = len(df_distribution)\n",
    "    compute_degree_distribution.forall(size)(n, df_distribution['count'], df_distribution['percentage'])\n",
    "\n",
    "    return df_distribution.astype({'percentage': 'float32'})\n",
    "\n",
    "@cuda.jit\n",
    "def align(src, const):\n",
    "    tid = cuda.blockDim.x * cuda.blockIdx.x + cuda.threadIdx.x\n",
    "    if tid < len(src):\n",
    "        src[tid] = src[tid] + const"
   ]
  },
  {
   "cell_type": "code",
   "execution_count": 4,
   "metadata": {},
   "outputs": [],
   "source": [
    "def init_cc(n, batch_size, iteration, mod, N, nodes_cp=None, mode='local'):\n",
    "    \"\"\"\n",
    "    - n                 number of vertices of the graph\n",
    "    - batch_size        range of nodes examined each epoch\n",
    "    - iteration         current epoch\n",
    "    - mod               the margin of n / batch_size\n",
    "    \"\"\"\n",
    "\n",
    "    if (batch_size * iteration) <= n:\n",
    "        start = 0 + (batch_size*(iteration - 1))\n",
    "        stop = start + batch_size\n",
    "        M = batch_size\n",
    "    else:\n",
    "        start = 0 + (batch_size*(iteration - 1))\n",
    "        stop = start + mod\n",
    "        M = mod\n",
    "    print(start, stop)\n",
    "    return start, stop, M\n",
    "        \n",
    "    \n",
    "def avg_clustering_coefficient(n, src, dst, df_degree, N, nodes_cp=None, is_directed=False) -> float:\n",
    "    local_ccs = cp.zeros((1,), dtype='float32')\n",
    "    M = compute_bounds(n, N, cp.dtype(cp.int32).itemsize)\n",
    "    epochs = ceil(n / M)\n",
    "    leftovers = n % M\n",
    "    epoch = 1\n",
    "     \n",
    "    for i in range(1, epochs+1):  \n",
    "        start, stop, M = init_cc(n, M, i, leftovers, N)\n",
    "        nodes = cp.arange(start, stop, 1)\n",
    "        if nodes_cp is not None: nodes = nodes_cp[start : stop]\n",
    "        matrix = cp.empty((M, N), dtype='int32')\n",
    "        matrix.fill(-1)\n",
    "        edgespernode = cp.zeros(M, dtype='int32')\n",
    "     \n",
    "        threadsperblock = 1024\n",
    "        blockspergrid = (M + (threadsperblock -1)) // threadsperblock\n",
    "        threadsperblock_2D = (32, 32)\n",
    "        blockspergrid_x = (N + (threadsperblock_2D[1] - 1)) // threadsperblock_2D[1]\n",
    "        blockspergrid_y = (M + (threadsperblock_2D[0] - 1)) // threadsperblock_2D[0]\n",
    "        blockspergrid_2D = (blockspergrid_x, blockspergrid_y)\n",
    "\n",
    "        if is_directed:\n",
    "            reciprocal = cp.zeros(M, dtype='int32')\n",
    "            directed_adj_list[blockspergrid, threadsperblock](nodes, src, dst, matrix)\n",
    "            reciprocal_count[blockspergrid_2D, threadsperblock_2D](matrix, nodes, src, dst, M, N, reciprocal)\n",
    "            directed_ngbr_edges[blockspergrid_2D, threadsperblock_2D](matrix, src, dst, M, N, edgespernode)       \n",
    "            lcc_directed[blockspergrid, threadsperblock](nodes, edgespernode, df_degree, reciprocal, local_ccs)\n",
    "            cuda.synchronize()\n",
    "\n",
    "        else:\n",
    "            undirected_adj_list[blockspergrid, threadsperblock](nodes, src, dst, matrix)\n",
    "            undirected_ngbr_edges[blockspergrid_2D, threadsperblock_2D](matrix, src, dst, M, N, edgespernode)\n",
    "            lcc_undirected[blockspergrid, threadsperblock](nodes, edgespernode, df_degree['degree'], local_ccs)\n",
    "            cuda.synchronize()\n",
    "\n",
    "    return local_ccs[0].get() / n\n",
    "\n",
    "\n",
    "def random_graph_generator(n, edges) -> cudf.DataFrame:\n",
    "    L = Graph(directed=True)\n",
    "    df = cudf.DataFrame({'src': None, 'dst': None})\n",
    "    p = edges / (n * (n - 1))\n",
    "    N = n\n",
    "    M = compute_bounds(n, N, cp.dtype(cp.int32).itemsize)\n",
    "    np_nodes = np.arange(0, n, 1, dtype='int32')\n",
    "    epochs = ceil(n / M)\n",
    "    leftovers = n % M\n",
    "    epoch = 1\n",
    "\n",
    "    while epoch <= epochs:\n",
    "        L.clear()\n",
    "        start, stop, M = init_cc(n, M, epoch, leftovers, N, mode='rndm')\n",
    "        matrix = cp.zeros((M, N), dtype='int32')\n",
    "        threadsperblock = 1024\n",
    "        blockspergrid = (matrix.shape[0] + (threadsperblock - 1)) // threadsperblock\n",
    "        rng_states = create_xoroshiro128p_states(threadsperblock * blockspergrid, seed=42)\n",
    "        gnp_erdos_renyi[blockspergrid, threadsperblock](p, rng_states, M, N, matrix)\n",
    "        a_matrix = np.empty((M,N), dtype='int32')\n",
    "        cp.asnumpy(matrix, stream=None, out=a_matrix)\n",
    "#        arrays.append(a_matrix)\n",
    "        L.from_numpy_array(a_matrix)\n",
    "        df_l = L.view_edge_list()\n",
    "        df_l.pop('weights')\n",
    "        size = len(df['src'])\n",
    "        align.forall(size)(df_l['src'], start)\n",
    "        df = cudf.concat([df, df_l], ignore_index=True)\n",
    "        del a_matrix\n",
    "        del matrix\n",
    "        epoch += 1\n",
    "    \n",
    "#    A = np.concatenate(arrays)\n",
    "    df.dropna(inplace=True)\n",
    "    return df\n",
    "\n",
    "def _multi_rmat (n, edges):\n",
    "    p = edges / (n * (n-1))\n",
    "    scale_low = floor(log2(n))\n",
    "    scale_up = ceil(log2(n))\n",
    "    print(scale_low, scale_up, int(log2(n)))\n",
    "#    df = multi_rmat(n_edgelists=1, min_scale=floor(log2(n-1)), max_scale=ceil(log2(n-1)), edge_factor=int(p*(n**2)),\n",
    "#                 size_distribution=0, edge_distribution=1, seed=1, clip_and_flip=False, scramble_vertex_ids=False)\n",
    "    df = rmat(scale_low, edges, 0.25, 0.25, 0.5,seed=42, clip_and_flip=False, \n",
    "              scramble_vertex_ids=False)    \n",
    "    return df"
   ]
  },
  {
   "cell_type": "code",
   "execution_count": 5,
   "metadata": {},
   "outputs": [],
   "source": [
    "#DATA LOADING\n",
    "edgesfile = '../graphs/ethereum/2020-01-01_2020-01-01/network.csv'\n",
    "#addressfile = '../graphs/ethereum/2020-01-01_2020-01-01/vertices.csv'\n",
    "#edgesfile = '../graphs/bitcoin/2016-01-01_2016-01-01/network.csv'\n",
    "edges_list = cudf.read_csv(edgesfile, delimiter=',', names=['src','dst','wt'], dtype=['int32','int32','float64']) \\\n",
    "                 .drop_duplicates(subset=['src', 'dst'], keep='first') \\\n",
    "                 .dropna(axis=0, how='any')"
   ]
  },
  {
   "cell_type": "code",
   "execution_count": 6,
   "metadata": {},
   "outputs": [],
   "source": [
    "#REAL GRAPH/NETWORK\n",
    "G = Graph(directed=True)\n",
    "G.from_cudf_edgelist(edges_list, source='src', destination='dst', edge_attr='wt',\n",
    "                     renumber=False, store_transposed=True)\n",
    "\n",
    "#Computing graph properties\n",
    "vertex_number = G.number_of_nodes()\n",
    "edges_number = G.number_of_edges()\n",
    "tot_degrees = G.degree()            #in and out degrees of all vertices\n",
    "#tot_degrees = tot_degrees.sort_values(by='vertex', ascending=True, ignore_index=False)\n",
    "in_degrees = G.in_degree()\n",
    "out_degrees = G.out_degree()"
   ]
  },
  {
   "cell_type": "code",
   "execution_count": null,
   "metadata": {},
   "outputs": [],
   "source": [
    "g = tot_degrees.to_numpy()"
   ]
  },
  {
   "cell_type": "code",
   "execution_count": null,
   "metadata": {},
   "outputs": [],
   "source": [
    "df_tot = degree_distribution_wrapper(vertex_number, tot_degrees)\n",
    "df_in = degree_distribution_wrapper(vertex_number, in_degrees)\n",
    "df_out = degree_distribution_wrapper(vertex_number, out_degrees)\n",
    "\n",
    "#compute_shortest_path_length(G, G.nodes().to_cupy())\n"
   ]
  },
  {
   "cell_type": "code",
   "execution_count": null,
   "metadata": {},
   "outputs": [],
   "source": [
    "totals = sns.displot(df_tot.to_pandas(), x='degree', kde=True)"
   ]
  },
  {
   "cell_type": "code",
   "execution_count": null,
   "metadata": {},
   "outputs": [],
   "source": [
    "outs = sns.displot(df_in.to_pandas(), x='degree', kde=True)"
   ]
  },
  {
   "cell_type": "code",
   "execution_count": null,
   "metadata": {},
   "outputs": [],
   "source": [
    "ins = sns.displot(df_out.to_pandas(), x='degree', kde=True)"
   ]
  },
  {
   "cell_type": "code",
   "execution_count": 7,
   "metadata": {},
   "outputs": [
    {
     "name": "stdout",
     "output_type": "stream",
     "text": [
      "0 159295\n"
     ]
    }
   ],
   "source": [
    "N = tot_degrees['degree'].max()\n",
    "avg_cc = avg_clustering_coefficient(vertex_number, edges_list['src'], edges_list['dst'], \n",
    "                                    tot_degrees['degree'], N, is_directed=False)\n"
   ]
  },
  {
   "cell_type": "code",
   "execution_count": 8,
   "metadata": {},
   "outputs": [],
   "source": [
    "#Find Main Component\n",
    "df_components = cugraph.connected_components(G, connection='weak')\n",
    "target_label = df_components['labels'].mode()[0]\n",
    "df_nodes = df_components[df_components['labels'] == target_label]\n",
    "edges_list_mc = edges_list.loc[edges_list['src'].isin(df_nodes['vertex'])]\n",
    "G_mc = Graph(directed=True)\n",
    "G_mc.from_cudf_edgelist(edges_list_mc, source='src', destination='dst', edge_attr='wt', renumber=True)\n",
    "\n",
    "#Computing Main component properties\n",
    "vertex_number_mc = G_mc.number_of_nodes()\n",
    "edges_number_mc = G_mc.number_of_edges()\n",
    "tot_degrees_mc = G_mc.degree().sort_values(by='vertex', ignore_index=True)\n",
    "in_degrees_mc = G_mc.in_degree().sort_values(by='vertex', ignore_index=True)\n",
    "out_degrees_mc = G_mc.out_degree().sort_values(by='vertex', ignore_index=True)\n",
    "vertices_mc = G_mc.nodes().sort_values(ascending=True).to_cupy()"
   ]
  },
  {
   "cell_type": "code",
   "execution_count": null,
   "metadata": {},
   "outputs": [],
   "source": [
    "df = cugraph.filter_unreachable(cugraph.shortest_path_length(G_mc, 1).sort_values(by='vertex'))"
   ]
  },
  {
   "cell_type": "code",
   "execution_count": null,
   "metadata": {},
   "outputs": [],
   "source": [
    "df_tot_mc = degree_distribution_wrapper(vertex_number_mc, tot_degrees_mc, mode='tot')\n",
    "df_in_mc = degree_distribution_wrapper(vertex_number_mc, in_degrees_mc, mode='in')\n",
    "df_out_mc = degree_distribution_wrapper(vertex_number_mc, out_degrees_mc, mode='out')\n",
    "\n",
    "#compute_shortest_path_length(G_mc, G_mc.nodes().to_cupy())"
   ]
  },
  {
   "cell_type": "code",
   "execution_count": null,
   "metadata": {},
   "outputs": [],
   "source": [
    "tot_mc = sns.displot(df_tot_mc.to_pandas(), x='degree', kde=True)"
   ]
  },
  {
   "cell_type": "code",
   "execution_count": null,
   "metadata": {},
   "outputs": [],
   "source": [
    "in_mc = sns.displot(df_in_mc.to_pandas(), x='degree', kde=True)"
   ]
  },
  {
   "cell_type": "code",
   "execution_count": null,
   "metadata": {},
   "outputs": [],
   "source": [
    "out_mc = sns.displot(df_out_mc.to_pandas(), x='degree', kde=True)"
   ]
  },
  {
   "cell_type": "code",
   "execution_count": 9,
   "metadata": {},
   "outputs": [
    {
     "name": "stdout",
     "output_type": "stream",
     "text": [
      "0 144335\n"
     ]
    }
   ],
   "source": [
    "N = tot_degrees['degree'].max()\n",
    "mc_avg_cc = avg_clustering_coefficient(vertex_number_mc, edges_list_mc['src'], \n",
    "                                       edges_list_mc['dst'], tot_degrees_mc['degree'], \n",
    "                                       N, nodes_cp=vertices_mc, is_directed=True)\n"
   ]
  },
  {
   "cell_type": "code",
   "execution_count": null,
   "metadata": {},
   "outputs": [],
   "source": [
    "edge_list_rnd = random_graph_generator(vertex_number, edges_number)\n",
    "\n",
    "G_rnd = Graph(directed=True)\n",
    "G_rnd.from_cudf_edgelist(edge_list_rnd, source='src', destination='dst', renumber=False)\n",
    "\n",
    "\n",
    "vertex_number_rnd = G_rnd.number_of_nodes()\n",
    "edges_number_rnd = G_rnd.number_of_edges()\n",
    "tot_degrees_rnd = G_rnd.degree()\n",
    "in_degrees_rnd = G_rnd.in_degree()\n",
    "out_degrees_rnd = G_rnd.out_degree()\n",
    "#edge_list_rnd = G_rnd.view_edge_list()"
   ]
  },
  {
   "cell_type": "code",
   "execution_count": null,
   "metadata": {},
   "outputs": [],
   "source": [
    "edge_list_rnd"
   ]
  },
  {
   "cell_type": "code",
   "execution_count": null,
   "metadata": {},
   "outputs": [],
   "source": [
    "df_tot_rnd = degree_distribution_wrapper(vertex_number_rnd, tot_degrees_rnd, mode='tot')\n",
    "df_in_rnd = degree_distribution_wrapper( vertex_number_rnd, in_degrees_rnd, mode='in')\n",
    "df_out_rnd = degree_distribution_wrapper(vertex_number_rnd, out_degrees_rnd, mode='out')"
   ]
  },
  {
   "cell_type": "code",
   "execution_count": null,
   "metadata": {},
   "outputs": [],
   "source": [
    "tot_rnd = sns.displot(df_tot_rnd.to_pandas(), x='degree', kde=True)"
   ]
  },
  {
   "cell_type": "code",
   "execution_count": null,
   "metadata": {},
   "outputs": [],
   "source": [
    "out_rnd = sns.displot(df_out_rnd.to_pandas(), x='degree', kde=True)"
   ]
  },
  {
   "cell_type": "code",
   "execution_count": null,
   "metadata": {},
   "outputs": [],
   "source": [
    "in_rnd = sns.displot(df_in_rnd.to_pandas(), x='degree', kde=True)"
   ]
  },
  {
   "cell_type": "code",
   "execution_count": null,
   "metadata": {},
   "outputs": [],
   "source": [
    "N = tot_degrees_rnd['degree'].max()\n",
    "avg_cc_rnd = avg_clustering_coefficient(vertex_number_rnd, edge_list_rnd['src'], \n",
    "                                        edge_list_rnd['dst'], tot_degrees_rnd['degree'],\n",
    "                                        N, is_directed=True) \n"
   ]
  },
  {
   "cell_type": "code",
   "execution_count": null,
   "metadata": {},
   "outputs": [],
   "source": [
    "df_components = cugraph.connected_components(G_rnd, connection='weak')\n",
    "target_label = df_components['labels'].mode()[0]\n",
    "df_nodes = df_components[df_components['labels'] == target_label]\n",
    "edges_list_rnd_mc = edge_list_rnd.loc[edge_list_rnd['src'].isin(df_nodes['vertex'])]\n",
    "G_rnd_mc = Graph(directed=True)\n",
    "G_rnd_mc.from_cudf_edgelist(edges_list_rnd_mc, source='src', destination='dst', renumber=True)"
   ]
  },
  {
   "cell_type": "code",
   "execution_count": null,
   "metadata": {},
   "outputs": [],
   "source": [
    "vertex_number_rnd_mc = G_rnd_mc.number_of_nodes()\n",
    "edges_number_rnd_mc = G_rnd_mc.number_of_edges()\n",
    "\n",
    "tot_degrees_rnd_mc = G_rnd_mc.degree().sort_values(by='vertex', ignore_index=True)\n",
    "in_degrees_rnd_mc = G_rnd_mc.in_degree().sort_values(by='vertex', ignore_index=True)\n",
    "out_degrees_rnd_mc = G_rnd_mc.out_degree().sort_values(by='vertex', ignore_index=True)\n",
    "vertices_rnd_mc = G_rnd_mc.nodes().sort_values(ascending=True).to_cupy()"
   ]
  },
  {
   "cell_type": "code",
   "execution_count": null,
   "metadata": {},
   "outputs": [],
   "source": [
    "N = tot_degrees_rnd_mc['degree'].max()\n",
    "avg_cc_rnd_mc = avg_clustering_coefficient(vertex_number_rnd_mc, edges_list_rnd_mc['src'],\n",
    "                                           edges_list_rnd_mc['dst'], tot_degrees_rnd_mc['degree'],\n",
    "                                           N, nodes_cp=vertices_rnd_mc, is_directed=True)"
   ]
  },
  {
   "cell_type": "code",
   "execution_count": null,
   "metadata": {},
   "outputs": [],
   "source": [
    "df = cugraph.shortest_path_length(G_mc, 0, 1)"
   ]
  },
  {
   "cell_type": "code",
   "execution_count": null,
   "metadata": {},
   "outputs": [],
   "source": [
    "df"
   ]
  },
  {
   "cell_type": "code",
   "execution_count": null,
   "metadata": {},
   "outputs": [],
   "source": [
    "df_1 = cugraph.filter_unreachable(cugraph.shortest_path_length(G_mc, 0))"
   ]
  },
  {
   "cell_type": "code",
   "execution_count": null,
   "metadata": {},
   "outputs": [],
   "source": [
    "df_1.sort_values(by='vertex')\n",
    "df_1['distance'].sum()"
   ]
  },
  {
   "cell_type": "code",
   "execution_count": null,
   "metadata": {},
   "outputs": [],
   "source": [
    "compute_shortest_path_length(G_mc, vertices_mc)"
   ]
  },
  {
   "cell_type": "code",
   "execution_count": null,
   "metadata": {},
   "outputs": [],
   "source": [
    "f.sort_values(by='vertex')"
   ]
  },
  {
   "cell_type": "code",
   "execution_count": null,
   "metadata": {},
   "outputs": [],
   "source": [
    "f"
   ]
  },
  {
   "cell_type": "code",
   "execution_count": null,
   "metadata": {},
   "outputs": [],
   "source": []
  }
 ],
 "metadata": {
  "kernelspec": {
   "display_name": "Python 3.9.13 ('DiLeNa_rapidsai')",
   "language": "python",
   "name": "python3"
  },
  "language_info": {
   "codemirror_mode": {
    "name": "ipython",
    "version": 3
   },
   "file_extension": ".py",
   "mimetype": "text/x-python",
   "name": "python",
   "nbconvert_exporter": "python",
   "pygments_lexer": "ipython3",
   "version": "3.9.13"
  },
  "orig_nbformat": 4,
  "vscode": {
   "interpreter": {
    "hash": "205f03a9084886247c431e04be0474db8fe3c88af0920dc2b52a09012fb59654"
   }
  }
 },
 "nbformat": 4,
 "nbformat_minor": 2
}
